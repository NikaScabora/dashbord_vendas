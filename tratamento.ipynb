{
 "cells": [
  {
   "cell_type": "markdown",
   "metadata": {},
   "source": [
    "IMPORTANDO BIBLIOTECAS"
   ]
  },
  {
   "cell_type": "code",
   "execution_count": 1,
   "metadata": {},
   "outputs": [],
   "source": [
    "import pandas as pd"
   ]
  },
  {
   "cell_type": "markdown",
   "metadata": {},
   "source": [
    "IMPORTANDO BASES DE DADOS"
   ]
  },
  {
   "cell_type": "code",
   "execution_count": 3,
   "metadata": {},
   "outputs": [],
   "source": [
    "def importar(arquivo): return pd.read_csv(f'arquivos/{arquivo}')\n",
    "\n",
    "dados_categorias=importar('data_categorias.csv')\n",
    "dados_clientes=importar('data_clientes.csv')\n",
    "dados_lojas=importar('data_lojas.csv')\n",
    "dados_produtos=importar('data_produtos.csv')\n",
    "dados_vendas=importar('data_vendas.csv')"
   ]
  },
  {
   "cell_type": "markdown",
   "metadata": {},
   "source": [
    ">Correções\n",
    "*Alterar tipos de dado das datas\n",
    "*Remover R$ dos valores\n",
    "*Consolidar as bases\n",
    "*Remover colunas de id\n",
    "*Criar a coluna de total\n",
    "*Salvar o novo data_set"
   ]
  },
  {
   "cell_type": "code",
   "execution_count": 4,
   "metadata": {},
   "outputs": [],
   "source": [
    "dados_vendas['dt_Venda']= pd.to_datetime(dados_vendas['dt_Venda'])"
   ]
  },
  {
   "cell_type": "code",
   "execution_count": 5,
   "metadata": {},
   "outputs": [],
   "source": [
    "dados_produtos['Preço Unitário']=dados_produtos['Preço Unitário'].str.lstrip('R$ ')\n",
    "dados_produtos['Preço Unitário']=dados_produtos['Preço Unitário'].astype(int)"
   ]
  },
  {
   "cell_type": "code",
   "execution_count": 9,
   "metadata": {},
   "outputs": [],
   "source": [
    "dados_consolidado=pd.merge(\n",
    "    dados_vendas,dados_clientes,\n",
    "    left_on='fk_Cliente', right_on='id_Cliente',how='left'\n",
    ")\n",
    "\n",
    "dados_consolidado=pd.merge(dados_consolidado,dados_produtos,\n",
    "    left_on='fk_Produto',right_on='id_Produto',how='right'\n",
    ")\n",
    "\n",
    "dados_consolidado=pd.merge(dados_consolidado,dados_lojas,\n",
    "    left_on='fk_Loja',right_on='id_Loja',how='right'\n",
    "    \n",
    ")\n",
    "\n",
    "dados_consolidado=pd.merge(dados_consolidado,dados_categorias,\n",
    "    left_on='fk_Categoria',right_on='id_Categoria',how='right'\n",
    "\n",
    ")"
   ]
  },
  {
   "cell_type": "code",
   "execution_count": 10,
   "metadata": {},
   "outputs": [],
   "source": [
    "try:\n",
    "    dados_consolidado=dados_consolidado.drop(\n",
    "        ['fk_Categoria','fk_Cliente','fk_Loja','fk_Produto'],axis=1)\n",
    "except KeyError:\n",
    "    print('Confira os nomes das colunas!')"
   ]
  },
  {
   "cell_type": "code",
   "execution_count": 11,
   "metadata": {},
   "outputs": [],
   "source": [
    "dados_consolidado['Total']=dados_consolidado['Quantidade']*dados_consolidado['Preço Unitário']"
   ]
  },
  {
   "cell_type": "code",
   "execution_count": 14,
   "metadata": {},
   "outputs": [],
   "source": [
    "dados_consolidado.to_csv('arquivos/dados_completos.csv', index=False)"
   ]
  }
 ],
 "metadata": {
  "kernelspec": {
   "display_name": "Python 3",
   "language": "python",
   "name": "python3"
  },
  "language_info": {
   "codemirror_mode": {
    "name": "ipython",
    "version": 3
   },
   "file_extension": ".py",
   "mimetype": "text/x-python",
   "name": "python",
   "nbconvert_exporter": "python",
   "pygments_lexer": "ipython3",
   "version": "3.12.3"
  }
 },
 "nbformat": 4,
 "nbformat_minor": 2
}
